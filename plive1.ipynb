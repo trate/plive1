{
 "cells": [
  {
   "cell_type": "code",
   "execution_count": 6,
   "metadata": {
    "collapsed": true
   },
   "outputs": [
    {
     "name": "stdout",
     "output_type": "stream",
     "text": [
      "5 6\n"
     ]
    }
   ],
   "source": [
    "x = 5\n",
    "y = x\n",
    "y = 6\n",
    "print(x,y)\n",
    "if id(x) == id(y):\n",
    "    print(f\"Ids are identical: x --> {id(x)}, y ---> {id(y)}\")"
   ]
  },
  {
   "cell_type": "code",
   "execution_count": 7,
   "outputs": [
    {
     "name": "stdout",
     "output_type": "stream",
     "text": [
      "[4, 5, 10] [4, 5, 10]\n",
      "Ids are identical: x --> 2260212632192, y ---> 2260212632192\n"
     ]
    }
   ],
   "source": [
    "x = [4, 5, 9]\n",
    "y = x\n",
    "y[2] = 10\n",
    "print(x, y)\n",
    "if id(x) == id(y):\n",
    "    print(f\"Ids are identical: x --> {id(x)}, y ---> {id(y)}\")"
   ],
   "metadata": {
    "collapsed": false,
    "pycharm": {
     "name": "#%%\n"
    }
   }
  },
  {
   "cell_type": "code",
   "execution_count": 8,
   "outputs": [
    {
     "name": "stdout",
     "output_type": "stream",
     "text": [
      "1.45 2.45\n"
     ]
    }
   ],
   "source": [
    "x = 1.45\n",
    "y = x\n",
    "y = 2.45\n",
    "print(x,y)\n",
    "if id(x) == id(y):\n",
    "    print(f\"Ids are identical: x --> {id(x)}, y ---> {id(y)}\")"
   ],
   "metadata": {
    "collapsed": false,
    "pycharm": {
     "name": "#%%\n"
    }
   }
  },
  {
   "cell_type": "code",
   "execution_count": 9,
   "outputs": [
    {
     "name": "stdout",
     "output_type": "stream",
     "text": [
      "Hello, my friend! Hello, Oleg!\n"
     ]
    }
   ],
   "source": [
    "x = \"Hello, my friend!\"\n",
    "y = x\n",
    "y = \"Hello, Oleg!\"\n",
    "print(x, y)\n",
    "if id(x) == id(y):\n",
    "    print(f\"Ids are identical: x --> {id(x)}, y ---> {id(y)}\")"
   ],
   "metadata": {
    "collapsed": false,
    "pycharm": {
     "name": "#%%\n"
    }
   }
  },
  {
   "cell_type": "code",
   "execution_count": 11,
   "outputs": [
    {
     "name": "stdout",
     "output_type": "stream",
     "text": [
      "(1, 3) (2, 3)\n"
     ]
    }
   ],
   "source": [
    "x = (1, 3)\n",
    "y = x\n",
    "y = (2,3)\n",
    "print(x,y)\n",
    "if id(x) == id(y):\n",
    "    print(f\"Ids are identical: x --> {id(x)}, y ---> {id(y)}\")"
   ],
   "metadata": {
    "collapsed": false,
    "pycharm": {
     "name": "#%%\n"
    }
   }
  },
  {
   "cell_type": "code",
   "execution_count": 10,
   "outputs": [
    {
     "name": "stdout",
     "output_type": "stream",
     "text": [
      "{'a': 5, 'b': 5} {'a': 5, 'b': 5}\n",
      "Ids are identical: x --> 2260209467200, y ---> 2260209467200\n"
     ]
    }
   ],
   "source": [
    "x = {'a': 4, 'b': 5}\n",
    "y = x\n",
    "y['a'] =5\n",
    "print(x,y)\n",
    "if id(x) == id(y):\n",
    "    print(f\"Ids are identical: x --> {id(x)}, y ---> {id(y)}\")"
   ],
   "metadata": {
    "collapsed": false,
    "pycharm": {
     "name": "#%%\n"
    }
   }
  }
 ],
 "metadata": {
  "kernelspec": {
   "display_name": "Python 3",
   "language": "python",
   "name": "python3"
  },
  "language_info": {
   "codemirror_mode": {
    "name": "ipython",
    "version": 2
   },
   "file_extension": ".py",
   "mimetype": "text/x-python",
   "name": "python",
   "nbconvert_exporter": "python",
   "pygments_lexer": "ipython2",
   "version": "2.7.6"
  }
 },
 "nbformat": 4,
 "nbformat_minor": 0
}